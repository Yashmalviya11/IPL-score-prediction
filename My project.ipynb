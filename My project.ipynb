{
 "cells": [
  {
   "cell_type": "code",
   "execution_count": 1,
   "id": "761b1416-2c63-4a11-96c4-2fc5e85d37c0",
   "metadata": {},
   "outputs": [],
   "source": [
    "import pandas as pd\n",
    "import numpy as np\n",
    "import matplotlib.pyplot as plt\n",
    "import seaborn as sns\n",
    "from sklearn import preprocessing\n",
    "import keras\n",
    "import tensorflow as tf"
   ]
  },
  {
   "cell_type": "code",
   "execution_count": 2,
   "id": "8ad346a1-4c19-4d65-a1b2-bf132a9ec331",
   "metadata": {},
   "outputs": [
    {
     "data": {
      "text/html": [
       "<div>\n",
       "<style scoped>\n",
       "    .dataframe tbody tr th:only-of-type {\n",
       "        vertical-align: middle;\n",
       "    }\n",
       "\n",
       "    .dataframe tbody tr th {\n",
       "        vertical-align: top;\n",
       "    }\n",
       "\n",
       "    .dataframe thead th {\n",
       "        text-align: right;\n",
       "    }\n",
       "</style>\n",
       "<table border=\"1\" class=\"dataframe\">\n",
       "  <thead>\n",
       "    <tr style=\"text-align: right;\">\n",
       "      <th></th>\n",
       "      <th>mid</th>\n",
       "      <th>date</th>\n",
       "      <th>venue</th>\n",
       "      <th>bat_team</th>\n",
       "      <th>bowl_team</th>\n",
       "      <th>batsman</th>\n",
       "      <th>bowler</th>\n",
       "      <th>runs</th>\n",
       "      <th>wickets</th>\n",
       "      <th>overs</th>\n",
       "      <th>runs_last_5</th>\n",
       "      <th>wickets_last_5</th>\n",
       "      <th>striker</th>\n",
       "      <th>non-striker</th>\n",
       "      <th>total</th>\n",
       "    </tr>\n",
       "  </thead>\n",
       "  <tbody>\n",
       "    <tr>\n",
       "      <th>0</th>\n",
       "      <td>1</td>\n",
       "      <td>18-04-2008</td>\n",
       "      <td>M Chinnaswamy Stadium</td>\n",
       "      <td>Kolkata Knight Riders</td>\n",
       "      <td>Royal Challengers Bangalore</td>\n",
       "      <td>SC Ganguly</td>\n",
       "      <td>P Kumar</td>\n",
       "      <td>1</td>\n",
       "      <td>0</td>\n",
       "      <td>0.1</td>\n",
       "      <td>1</td>\n",
       "      <td>0</td>\n",
       "      <td>0</td>\n",
       "      <td>0</td>\n",
       "      <td>222</td>\n",
       "    </tr>\n",
       "    <tr>\n",
       "      <th>1</th>\n",
       "      <td>1</td>\n",
       "      <td>18-04-2008</td>\n",
       "      <td>M Chinnaswamy Stadium</td>\n",
       "      <td>Kolkata Knight Riders</td>\n",
       "      <td>Royal Challengers Bangalore</td>\n",
       "      <td>BB McCullum</td>\n",
       "      <td>P Kumar</td>\n",
       "      <td>1</td>\n",
       "      <td>0</td>\n",
       "      <td>0.2</td>\n",
       "      <td>1</td>\n",
       "      <td>0</td>\n",
       "      <td>0</td>\n",
       "      <td>0</td>\n",
       "      <td>222</td>\n",
       "    </tr>\n",
       "    <tr>\n",
       "      <th>2</th>\n",
       "      <td>1</td>\n",
       "      <td>18-04-2008</td>\n",
       "      <td>M Chinnaswamy Stadium</td>\n",
       "      <td>Kolkata Knight Riders</td>\n",
       "      <td>Royal Challengers Bangalore</td>\n",
       "      <td>BB McCullum</td>\n",
       "      <td>P Kumar</td>\n",
       "      <td>2</td>\n",
       "      <td>0</td>\n",
       "      <td>0.2</td>\n",
       "      <td>2</td>\n",
       "      <td>0</td>\n",
       "      <td>0</td>\n",
       "      <td>0</td>\n",
       "      <td>222</td>\n",
       "    </tr>\n",
       "    <tr>\n",
       "      <th>3</th>\n",
       "      <td>1</td>\n",
       "      <td>18-04-2008</td>\n",
       "      <td>M Chinnaswamy Stadium</td>\n",
       "      <td>Kolkata Knight Riders</td>\n",
       "      <td>Royal Challengers Bangalore</td>\n",
       "      <td>BB McCullum</td>\n",
       "      <td>P Kumar</td>\n",
       "      <td>2</td>\n",
       "      <td>0</td>\n",
       "      <td>0.3</td>\n",
       "      <td>2</td>\n",
       "      <td>0</td>\n",
       "      <td>0</td>\n",
       "      <td>0</td>\n",
       "      <td>222</td>\n",
       "    </tr>\n",
       "    <tr>\n",
       "      <th>4</th>\n",
       "      <td>1</td>\n",
       "      <td>18-04-2008</td>\n",
       "      <td>M Chinnaswamy Stadium</td>\n",
       "      <td>Kolkata Knight Riders</td>\n",
       "      <td>Royal Challengers Bangalore</td>\n",
       "      <td>BB McCullum</td>\n",
       "      <td>P Kumar</td>\n",
       "      <td>2</td>\n",
       "      <td>0</td>\n",
       "      <td>0.4</td>\n",
       "      <td>2</td>\n",
       "      <td>0</td>\n",
       "      <td>0</td>\n",
       "      <td>0</td>\n",
       "      <td>222</td>\n",
       "    </tr>\n",
       "  </tbody>\n",
       "</table>\n",
       "</div>"
      ],
      "text/plain": [
       "   mid        date                  venue               bat_team  \\\n",
       "0    1  18-04-2008  M Chinnaswamy Stadium  Kolkata Knight Riders   \n",
       "1    1  18-04-2008  M Chinnaswamy Stadium  Kolkata Knight Riders   \n",
       "2    1  18-04-2008  M Chinnaswamy Stadium  Kolkata Knight Riders   \n",
       "3    1  18-04-2008  M Chinnaswamy Stadium  Kolkata Knight Riders   \n",
       "4    1  18-04-2008  M Chinnaswamy Stadium  Kolkata Knight Riders   \n",
       "\n",
       "                     bowl_team      batsman   bowler  runs  wickets  overs  \\\n",
       "0  Royal Challengers Bangalore   SC Ganguly  P Kumar     1        0    0.1   \n",
       "1  Royal Challengers Bangalore  BB McCullum  P Kumar     1        0    0.2   \n",
       "2  Royal Challengers Bangalore  BB McCullum  P Kumar     2        0    0.2   \n",
       "3  Royal Challengers Bangalore  BB McCullum  P Kumar     2        0    0.3   \n",
       "4  Royal Challengers Bangalore  BB McCullum  P Kumar     2        0    0.4   \n",
       "\n",
       "   runs_last_5  wickets_last_5  striker  non-striker  total  \n",
       "0            1               0        0            0    222  \n",
       "1            1               0        0            0    222  \n",
       "2            2               0        0            0    222  \n",
       "3            2               0        0            0    222  \n",
       "4            2               0        0            0    222  "
      ]
     },
     "execution_count": 2,
     "metadata": {},
     "output_type": "execute_result"
    }
   ],
   "source": [
    "# Loading dataset\n",
    "\n",
    "ipl = pd.read_csv('ipl_dataset.csv')\n",
    "ipl.head()\n"
   ]
  },
  {
   "cell_type": "code",
   "execution_count": 3,
   "id": "916d6311-be3c-4912-ba56-e03ae5284dc8",
   "metadata": {},
   "outputs": [],
   "source": [
    "#Dropping unimportant features\n",
    "\n",
    "df = ipl.drop(['date', 'runs', 'wickets', 'overs', 'runs_last_5', 'wickets_last_5','mid', 'striker', 'non-striker'], axis =1)"
   ]
  },
  {
   "cell_type": "code",
   "execution_count": 4,
   "id": "78fdb60d-4fe1-465b-9578-e371178d4411",
   "metadata": {},
   "outputs": [],
   "source": [
    "#Splitting the data frame into independent variable (X) and dependent variable (Y) & our dependent variable is total scoer\n",
    "\n",
    "X = df.drop(['total'], axis =1)\n",
    "y = df['total']"
   ]
  },
  {
   "cell_type": "code",
   "execution_count": 5,
   "id": "a1fab8e2-c95d-43f2-99ea-d4b201ed4a53",
   "metadata": {},
   "outputs": [],
   "source": [
    "#Label Encoding\n",
    "\n",
    "from sklearn.preprocessing import LabelEncoder\n",
    "\n",
    "# Create a LabelEncoder object for each categorical feature\n",
    "venue_encoder = LabelEncoder()\n",
    "batting_team_encoder = LabelEncoder()\n",
    "bowling_team_encoder = LabelEncoder()\n",
    "striker_encoder = LabelEncoder()\n",
    "bowler_encoder = LabelEncoder()\n",
    "\n",
    "# Fit and transform the categorical features with label encoding\n",
    "X['venue'] = venue_encoder.fit_transform(X['venue'])\n",
    "X['bat_team'] = batting_team_encoder.fit_transform(X['bat_team'])\n",
    "X['bowl_team'] = bowling_team_encoder.fit_transform(X['bowl_team'])\n",
    "X['batsman'] = striker_encoder.fit_transform(X['batsman'])\n",
    "X['bowler'] = bowler_encoder.fit_transform(X['bowler'])\n"
   ]
  },
  {
   "cell_type": "code",
   "execution_count": 6,
   "id": "1542f616-1418-483a-99b7-807df64c366d",
   "metadata": {},
   "outputs": [],
   "source": [
    "# Train test Split\n",
    "\n",
    "from sklearn.model_selection import train_test_split\n",
    "X_train, X_test, y_train, y_test = train_test_split(X, y, test_size=0.3, random_state=42)\n"
   ]
  },
  {
   "cell_type": "code",
   "execution_count": 7,
   "id": "251d4ca1-b131-4972-bc98-8d223530a560",
   "metadata": {},
   "outputs": [],
   "source": [
    "from sklearn.preprocessing import MinMaxScaler\n",
    "\n",
    "scaler = MinMaxScaler()\n",
    "\n",
    "# Fit the scaler on the training data and transform both training and testing data\n",
    "\n",
    "X_train_scaled = scaler.fit_transform(X_train)\n",
    "X_test_scaled = scaler.transform(X_test)\n"
   ]
  },
  {
   "cell_type": "code",
   "execution_count": 8,
   "id": "02ce27e8-5c2d-4df7-b9aa-40ca1d822f8a",
   "metadata": {},
   "outputs": [],
   "source": [
    "# Define the neural network model\n",
    "\n",
    "model = keras.Sequential([\n",
    "    keras.layers.Input( shape=(X_train_scaled.shape[1],)),  # Input layer\n",
    "    keras.layers.Dense(512, activation='relu'),  # Hidden layer with 512 units and ReLU activation\n",
    "    keras.layers.Dense(216, activation='relu'),  # Hidden layer with 216 units and ReLU activation\n",
    "    keras.layers.Dense(1, activation='linear')  # Output layer with linear activation for regression\n",
    "])\n",
    "\n",
    "# Compile the model with Huber loss\n",
    "\n",
    "huber_loss = tf.keras.losses.Huber(delta=1.0)  # You can adjust the 'delta' parameter as needed\n",
    "model.compile(optimizer='adam', loss=huber_loss)  # Use Huber loss for regression\n"
   ]
  },
  {
   "cell_type": "code",
   "execution_count": 9,
   "id": "37c2fef6-917f-4579-bd3a-48cc376a24dd",
   "metadata": {},
   "outputs": [
    {
     "name": "stdout",
     "output_type": "stream",
     "text": [
      "Epoch 1/50\n",
      "832/832 [==============================] - 4s 3ms/step - loss: 32.0112 - val_loss: 22.3059\n",
      "Epoch 2/50\n",
      "832/832 [==============================] - 2s 3ms/step - loss: 22.3575 - val_loss: 22.2652\n",
      "Epoch 3/50\n",
      "832/832 [==============================] - 2s 3ms/step - loss: 22.3011 - val_loss: 21.9674\n",
      "Epoch 4/50\n",
      "832/832 [==============================] - 2s 2ms/step - loss: 22.2587 - val_loss: 21.8778\n",
      "Epoch 5/50\n",
      "832/832 [==============================] - 2s 2ms/step - loss: 22.2363 - val_loss: 22.0039\n",
      "Epoch 6/50\n",
      "832/832 [==============================] - 2s 2ms/step - loss: 22.1865 - val_loss: 21.8399\n",
      "Epoch 7/50\n",
      "832/832 [==============================] - 2s 2ms/step - loss: 22.1570 - val_loss: 22.0647\n",
      "Epoch 8/50\n",
      "832/832 [==============================] - 2s 2ms/step - loss: 22.1213 - val_loss: 22.0064\n",
      "Epoch 9/50\n",
      "832/832 [==============================] - 2s 2ms/step - loss: 22.1492 - val_loss: 21.8144\n",
      "Epoch 10/50\n",
      "832/832 [==============================] - 2s 2ms/step - loss: 22.1413 - val_loss: 21.8068\n",
      "Epoch 11/50\n",
      "832/832 [==============================] - 2s 2ms/step - loss: 22.0762 - val_loss: 21.7993\n",
      "Epoch 12/50\n",
      "832/832 [==============================] - 2s 2ms/step - loss: 22.0868 - val_loss: 21.9022\n",
      "Epoch 13/50\n",
      "832/832 [==============================] - 2s 2ms/step - loss: 22.0401 - val_loss: 21.7772\n",
      "Epoch 14/50\n",
      "832/832 [==============================] - 2s 2ms/step - loss: 22.0746 - val_loss: 21.7621\n",
      "Epoch 15/50\n",
      "832/832 [==============================] - 2s 2ms/step - loss: 22.0389 - val_loss: 21.8594\n",
      "Epoch 16/50\n",
      "832/832 [==============================] - 2s 2ms/step - loss: 22.0516 - val_loss: 21.7460\n",
      "Epoch 17/50\n",
      "832/832 [==============================] - 2s 2ms/step - loss: 22.0626 - val_loss: 21.9132\n",
      "Epoch 18/50\n",
      "832/832 [==============================] - 2s 2ms/step - loss: 21.9892 - val_loss: 21.6949\n",
      "Epoch 19/50\n",
      "832/832 [==============================] - 2s 2ms/step - loss: 21.8653 - val_loss: 21.5888\n",
      "Epoch 20/50\n",
      "832/832 [==============================] - 2s 2ms/step - loss: 21.7773 - val_loss: 21.7451\n",
      "Epoch 21/50\n",
      "832/832 [==============================] - 2s 2ms/step - loss: 21.7092 - val_loss: 21.5851\n",
      "Epoch 22/50\n",
      "832/832 [==============================] - 2s 2ms/step - loss: 21.6635 - val_loss: 21.3719\n",
      "Epoch 23/50\n",
      "832/832 [==============================] - 2s 2ms/step - loss: 21.6390 - val_loss: 21.4305\n",
      "Epoch 24/50\n",
      "832/832 [==============================] - 2s 2ms/step - loss: 21.6077 - val_loss: 21.2988\n",
      "Epoch 25/50\n",
      "832/832 [==============================] - 2s 2ms/step - loss: 21.5343 - val_loss: 21.4999\n",
      "Epoch 26/50\n",
      "832/832 [==============================] - 2s 2ms/step - loss: 21.4910 - val_loss: 21.2049\n",
      "Epoch 27/50\n",
      "832/832 [==============================] - 2s 2ms/step - loss: 21.4348 - val_loss: 21.1128\n",
      "Epoch 28/50\n",
      "832/832 [==============================] - 2s 2ms/step - loss: 21.3523 - val_loss: 21.2396\n",
      "Epoch 29/50\n",
      "832/832 [==============================] - 1s 2ms/step - loss: 21.2856 - val_loss: 20.9683\n",
      "Epoch 30/50\n",
      "832/832 [==============================] - 2s 2ms/step - loss: 21.1641 - val_loss: 20.9115\n",
      "Epoch 31/50\n",
      "832/832 [==============================] - 2s 2ms/step - loss: 21.1050 - val_loss: 20.7522\n",
      "Epoch 32/50\n",
      "832/832 [==============================] - 2s 2ms/step - loss: 20.9848 - val_loss: 20.7292\n",
      "Epoch 33/50\n",
      "832/832 [==============================] - 2s 2ms/step - loss: 20.9120 - val_loss: 20.6235\n",
      "Epoch 34/50\n",
      "832/832 [==============================] - 2s 2ms/step - loss: 20.7608 - val_loss: 20.4815\n",
      "Epoch 35/50\n",
      "832/832 [==============================] - 2s 2ms/step - loss: 20.5839 - val_loss: 20.4606\n",
      "Epoch 36/50\n",
      "832/832 [==============================] - 2s 2ms/step - loss: 20.4636 - val_loss: 20.3604\n",
      "Epoch 37/50\n",
      "832/832 [==============================] - 2s 2ms/step - loss: 20.3362 - val_loss: 20.3466\n",
      "Epoch 38/50\n",
      "832/832 [==============================] - 2s 2ms/step - loss: 20.2304 - val_loss: 20.1820\n",
      "Epoch 39/50\n",
      "832/832 [==============================] - 2s 2ms/step - loss: 20.1474 - val_loss: 19.8206\n",
      "Epoch 40/50\n",
      "832/832 [==============================] - 2s 2ms/step - loss: 19.9807 - val_loss: 19.9282\n",
      "Epoch 41/50\n",
      "832/832 [==============================] - 2s 2ms/step - loss: 19.8943 - val_loss: 19.5653\n",
      "Epoch 42/50\n",
      "832/832 [==============================] - 2s 2ms/step - loss: 19.7246 - val_loss: 19.4718\n",
      "Epoch 43/50\n",
      "832/832 [==============================] - 2s 2ms/step - loss: 19.6520 - val_loss: 19.4392\n",
      "Epoch 44/50\n",
      "832/832 [==============================] - 2s 2ms/step - loss: 19.5486 - val_loss: 19.6138\n",
      "Epoch 45/50\n",
      "832/832 [==============================] - 2s 2ms/step - loss: 19.4667 - val_loss: 19.2203\n",
      "Epoch 46/50\n",
      "832/832 [==============================] - 2s 2ms/step - loss: 19.3676 - val_loss: 19.0197\n",
      "Epoch 47/50\n",
      "832/832 [==============================] - 2s 2ms/step - loss: 19.2552 - val_loss: 19.4920\n",
      "Epoch 48/50\n",
      "832/832 [==============================] - 2s 2ms/step - loss: 19.1275 - val_loss: 19.4802\n",
      "Epoch 49/50\n",
      "832/832 [==============================] - 2s 2ms/step - loss: 19.1385 - val_loss: 18.8937\n",
      "Epoch 50/50\n",
      "832/832 [==============================] - 2s 2ms/step - loss: 18.9829 - val_loss: 18.7655\n"
     ]
    },
    {
     "data": {
      "text/plain": [
       "<keras.callbacks.History at 0x20382362b50>"
      ]
     },
     "execution_count": 9,
     "metadata": {},
     "output_type": "execute_result"
    }
   ],
   "source": [
    "# Train the model\n",
    "\n",
    "model.fit(X_train_scaled, y_train, epochs=50, batch_size=64, validation_data=(X_test_scaled, y_test))\n"
   ]
  },
  {
   "cell_type": "code",
   "execution_count": 10,
   "id": "c905310c-90ec-4e3b-91f4-b337625332db",
   "metadata": {},
   "outputs": [
    {
     "data": {
      "text/plain": [
       "<Axes: >"
      ]
     },
     "execution_count": 10,
     "metadata": {},
     "output_type": "execute_result"
    },
    {
     "data": {
      "image/png": "[encoded data removed]",
      "text/plain": [
       "<Figure size 640x480 with 1 Axes>"
      ]
     },
     "metadata": {},
     "output_type": "display_data"
    }
   ],
   "source": [
    "#Stored training and validation loss value\n",
    "\n",
    "model_losses = pd.DataFrame(model.history.history)\n",
    "model_losses.plot()\n"
   ]
  },
  {
   "cell_type": "code",
   "execution_count": 11,
   "id": "01d645d5-6f57-4cd3-9c3a-67ff9f4d1e45",
   "metadata": {},
   "outputs": [
    {
     "name": "stdout",
     "output_type": "stream",
     "text": [
      "713/713 [==============================] - 1s 858us/step\n"
     ]
    },
    {
     "data": {
      "text/plain": [
       "19.256695015674566"
      ]
     },
     "execution_count": 11,
     "metadata": {},
     "output_type": "execute_result"
    }
   ],
   "source": [
    "# Make predictions\n",
    "\n",
    "predictions = model.predict(X_test_scaled)\n",
    "\n",
    "from sklearn.metrics import mean_absolute_error,mean_squared_error\n",
    "mean_absolute_error(y_test,predictions)\n"
   ]
  },
  {
   "cell_type": "code",
   "execution_count": 13,
   "id": "ca0da973-8496-400c-8f2d-d5069341eedc",
   "metadata": {},
   "outputs": [],
   "source": [
    "import ipywidgets as widgets\n",
    "from IPython.display import display, clear_output\n",
    "\n",
    "import warnings\n",
    "warnings.filterwarnings(\"ignore\")\n",
    "\n",
    "venue = widgets.Dropdown(options=df['venue'].unique().tolist(),description='Select Venue:')\n",
    "batting_team = widgets.Dropdown(options =df['bat_team'].unique().tolist(),  description='Select Batting Team:')\n",
    "bowling_team = widgets.Dropdown(options=df['bowl_team'].unique().tolist(),  description='Select Bowling Team:')\n",
    "striker = widgets.Dropdown(options=df['batsman'].unique().tolist(), description='Select Striker:')\n",
    "bowler = widgets.Dropdown(options=df['bowler'].unique().tolist(), description='Select Bowler:')\n",
    "\n",
    "predict_button = widgets.Button(description=\"Predict Score\")\n",
    "\n",
    "def predict_score(b):\n",
    "    with output:\n",
    "        clear_output()  # Clear the previous output\n",
    "        \n",
    "        # Decode the encoded values back to their original values\n",
    "        decoded_venue = venue_encoder.transform([venue.value])\n",
    "        decoded_batting_team = batting_team_encoder.transform([batting_team.value])\n",
    "        decoded_bowling_team = bowling_team_encoder.transform([bowling_team.value])\n",
    "        decoded_striker = striker_encoder.transform([striker.value])\n",
    "        decoded_bowler = bowler_encoder.transform([bowler.value])\n",
    "\n",
    "        input = np.array([decoded_venue,  decoded_batting_team, decoded_bowling_team,decoded_striker, decoded_bowler])\n",
    "        input = input.reshape(1,5)\n",
    "        input = scaler.transform(input)\n",
    "        #print(input)\n",
    "        predicted_score = model.predict(input)\n",
    "        predicted_score = int(predicted_score[0,0])\n",
    "\n",
    "        print(predicted_score)\n"
   ]
  },
  {
   "cell_type": "code",
   "execution_count": 14,
   "id": "44bc29fd-148d-4d8a-b46e-befef789e53a",
   "metadata": {},
   "outputs": [
    {
     "data": {
      "application/vnd.jupyter.widget-view+json": {
       "model_id": "a9854120dc5d445e9048b70a34e14c06",
       "version_major": 2,
       "version_minor": 0
      },
      "text/plain": [
       "Dropdown(description='Select Venue:', options=('M Chinnaswamy Stadium', 'Punjab Cricket Association Stadium, M…"
      ]
     },
     "metadata": {},
     "output_type": "display_data"
    },
    {
     "data": {
      "application/vnd.jupyter.widget-view+json": {
       "model_id": "cff1f920264848ce8a15b13f9a93aed2",
       "version_major": 2,
       "version_minor": 0
      },
      "text/plain": [
       "Dropdown(description='Select Batting Team:', options=('Kolkata Knight Riders', 'Chennai Super Kings', 'Rajasth…"
      ]
     },
     "metadata": {},
     "output_type": "display_data"
    },
    {
     "data": {
      "application/vnd.jupyter.widget-view+json": {
       "model_id": "41e63be6215447feb73ad074e9ae772f",
       "version_major": 2,
       "version_minor": 0
      },
      "text/plain": [
       "Dropdown(description='Select Bowling Team:', options=('Royal Challengers Bangalore', 'Kings XI Punjab', 'Delhi…"
      ]
     },
     "metadata": {},
     "output_type": "display_data"
    },
    {
     "data": {
      "application/vnd.jupyter.widget-view+json": {
       "model_id": "9c137929cb274c44ada3eafbb4720390",
       "version_major": 2,
       "version_minor": 0
      },
      "text/plain": [
       "Dropdown(description='Select Striker:', options=('SC Ganguly', 'BB McCullum', 'RT Ponting', 'DJ Hussey', 'Moha…"
      ]
     },
     "metadata": {},
     "output_type": "display_data"
    },
    {
     "data": {
      "application/vnd.jupyter.widget-view+json": {
       "model_id": "9d5e771181c94418a5802c4c0c3554ee",
       "version_major": 2,
       "version_minor": 0
      },
      "text/plain": [
       "Dropdown(description='Select Bowler:', options=('P Kumar', 'Z Khan', 'AA Noffke', 'JH Kallis', 'SB Joshi', 'CL…"
      ]
     },
     "metadata": {},
     "output_type": "display_data"
    },
    {
     "data": {
      "application/vnd.jupyter.widget-view+json": {
       "model_id": "dc39abe5e18543948cfeb9190cdd1a66",
       "version_major": 2,
       "version_minor": 0
      },
      "text/plain": [
       "Button(description='Predict Score', style=ButtonStyle())"
      ]
     },
     "metadata": {},
     "output_type": "display_data"
    },
    {
     "data": {
      "application/vnd.jupyter.widget-view+json": {
       "model_id": "baaddb54fe3e40eaa68ea0acbf0d275d",
       "version_major": 2,
       "version_minor": 0
      },
      "text/plain": [
       "Output()"
      ]
     },
     "metadata": {},
     "output_type": "display_data"
    }
   ],
   "source": [
    "predict_button.on_click(predict_score)\n",
    "output = widgets.Output()\n",
    "display(venue, batting_team, bowling_team, striker, bowler, predict_button, output)\n"
   ]
  },
  {
   "cell_type": "code",
   "execution_count": null,
   "id": "fae9021c-f749-493d-be0f-5a223c3b30f5",
   "metadata": {},
   "outputs": [],
   "source": []
  },
  {
   "cell_type": "code",
   "execution_count": null,
   "id": "cf1cdff8-467e-4795-b28c-106bdeb44100",
   "metadata": {},
   "outputs": [],
   "source": []
  }
 ],
 "metadata": {
  "kernelspec": {
   "display_name": "Python 3 (ipykernel)",
   "language": "python",
   "name": "python3"
  },
  "language_info": {
   "codemirror_mode": {
    "name": "ipython",
    "version": 3
   },
   "file_extension": ".py",
   "mimetype": "text/x-python",
   "name": "python",
   "nbconvert_exporter": "python",
   "pygments_lexer": "ipython3",
   "version": "3.9.18"
  }
 },
 "nbformat": 4,
 "nbformat_minor": 5
}
